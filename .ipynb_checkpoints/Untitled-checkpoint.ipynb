{
 "cells": [
  {
   "cell_type": "code",
   "execution_count": 1,
   "id": "463fba04",
   "metadata": {},
   "outputs": [],
   "source": [
    "import snowflake.connector\n",
    "\n",
    "# define paramters for snowflake connection\n",
    "conn = snowflake.connector.connect(\n",
    "    user= \"tarunchaubey55\",\n",
    "    password= \"Bhargav09@\",\n",
    "    account= \"fd05331.central-india.azure\",\n",
    "    warehouse='TEST_WAREHOUSES',\n",
    "    database='SNOWFLAKE_CICD',\n",
    "    schema= \"PUBLIC\")"
   ]
  },
  {
   "cell_type": "code",
   "execution_count": null,
   "id": "37f5a389",
   "metadata": {},
   "outputs": [],
   "source": [
    "# define schema for create table in snowflake\n",
    "sql_query = 'create table stock_prices if not exists( DATE DATE, Open NUMBER(10), High NUMBER(10), Low NUMBER(10), Close NUMBER(10), volume NUMBER(10));'"
   ]
  },
  {
   "cell_type": "code",
   "execution_count": null,
   "id": "8223f531",
   "metadata": {},
   "outputs": [],
   "source": [
    "# execute query to create table in snowflake\n",
    "conn.cursor().execute(sql_query)"
   ]
  },
  {
   "cell_type": "code",
   "execution_count": null,
   "id": "e37e0757",
   "metadata": {},
   "outputs": [],
   "source": [
    "# created intermediate stage in snowflake\n",
    "conn.cursor().execute(\"CREATE OR REPLACE STAGE Intermediate_Stage;\")"
   ]
  },
  {
   "cell_type": "code",
   "execution_count": null,
   "id": "5e9bb03a",
   "metadata": {},
   "outputs": [],
   "source": [
    "# creating format of csv files\n",
    "conn.cursor().execute(\"CREATE OR REPLACE FILE FORMAT Intermediate_Stage type ='csv' field_delimiter = '|'\")"
   ]
  },
  {
   "cell_type": "code",
   "execution_count": null,
   "id": "549c6a57",
   "metadata": {},
   "outputs": [],
   "source": [
    "# put files from local system to snowflake stages\n",
    "conn.cursor().execute(\"put file://./data/*.csv @Intermediate_Stage;\")"
   ]
  },
  {
   "cell_type": "code",
   "execution_count": null,
   "id": "8281d1bc",
   "metadata": {},
   "outputs": [],
   "source": [
    "# copy data from stages to tables\n",
    "conn.cursor().execute(\"copy into stock_prices from @Intermediate_Stage/*.csv\")"
   ]
  },
  {
   "cell_type": "code",
   "execution_count": null,
   "id": "28fc8a25",
   "metadata": {},
   "outputs": [],
   "source": []
  },
  {
   "cell_type": "code",
   "execution_count": 6,
   "id": "a68b1ffb",
   "metadata": {},
   "outputs": [
    {
     "data": {
      "text/plain": [
       "[(datetime.datetime(2022, 12, 26, 21, 21, 41, 464000, tzinfo=<DstTzInfo 'America/Los_Angeles' PST-1 day, 16:00:00 STD>),\n",
       "  'INTERMEDIATE_STAGE',\n",
       "  'SNOWFLAKE_CICD',\n",
       "  'PUBLIC',\n",
       "  '',\n",
       "  'N',\n",
       "  'N',\n",
       "  'ACCOUNTADMIN',\n",
       "  '',\n",
       "  None,\n",
       "  'INTERNAL',\n",
       "  None,\n",
       "  None,\n",
       "  None)]"
      ]
     },
     "execution_count": 6,
     "metadata": {},
     "output_type": "execute_result"
    }
   ],
   "source": [
    "conn.cursor().execute(\"show stages\").fetchall()"
   ]
  },
  {
   "cell_type": "code",
   "execution_count": 7,
   "id": "c3cbccff",
   "metadata": {},
   "outputs": [
    {
     "data": {
      "text/plain": [
       "[('intermediate_stage/StockFileDay_0.csv.gz',\n",
       "  56224,\n",
       "  'cd0b0023ad5ec9878a6165ff7ac9f802',\n",
       "  'Tue, 27 Dec 2022 05:21:44 GMT'),\n",
       " ('intermediate_stage/StockFileDay_1.csv.gz',\n",
       "  56224,\n",
       "  '5471610af3b8be525e78a4cb59786556',\n",
       "  'Tue, 27 Dec 2022 05:21:44 GMT'),\n",
       " ('intermediate_stage/StockFileDay_2.csv.gz',\n",
       "  56224,\n",
       "  '325773d39596d901a3ee5e76bda8c941',\n",
       "  'Tue, 27 Dec 2022 05:21:44 GMT')]"
      ]
     },
     "execution_count": 7,
     "metadata": {},
     "output_type": "execute_result"
    }
   ],
   "source": [
    "conn.cursor().execute(\"list @INTERMEDIATE_STAGE\").fetchall()"
   ]
  },
  {
   "cell_type": "code",
   "execution_count": 13,
   "id": "53a61949",
   "metadata": {},
   "outputs": [
    {
     "data": {
      "text/plain": [
       "<snowflake.connector.cursor.SnowflakeCursor at 0x29c48918880>"
      ]
     },
     "execution_count": 13,
     "metadata": {},
     "output_type": "execute_result"
    }
   ],
   "source": [
    "conn.cursor().execute(\"copy into stock_prices from @Intermediate_Stage/*.csv.gz  on_error = 'CONTINUE'\")"
   ]
  }
 ],
 "metadata": {
  "kernelspec": {
   "display_name": "Python 3",
   "language": "python",
   "name": "python3"
  },
  "language_info": {
   "codemirror_mode": {
    "name": "ipython",
    "version": 3
   },
   "file_extension": ".py",
   "mimetype": "text/x-python",
   "name": "python",
   "nbconvert_exporter": "python",
   "pygments_lexer": "ipython3",
   "version": "3.8.15"
  }
 },
 "nbformat": 4,
 "nbformat_minor": 5
}
